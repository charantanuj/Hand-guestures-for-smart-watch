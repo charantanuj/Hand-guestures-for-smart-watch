{
 "cells": [
  {
   "cell_type": "markdown",
   "metadata": {
    "id": "JT0Q1wIS9tWn"
   },
   "source": [
    "Sample Rate - 100 Hz\n",
    "\n"
   ]
  },
  {
   "cell_type": "code",
   "execution_count": 1,
   "metadata": {
    "id": "ekQOotLewOyE"
   },
   "outputs": [],
   "source": [
    "import pandas as pd\n",
    "import seaborn as sns\n",
    "import matplotlib.pyplot as plt"
   ]
  },
  {
   "cell_type": "code",
   "execution_count": 2,
   "metadata": {},
   "outputs": [
    {
     "ename": "ImportError",
     "evalue": "Traceback (most recent call last):\n  File \"c:\\users\\charan tanuj\\appdata\\local\\programs\\python\\python38-32\\lib\\site-packages\\tensorflow\\python\\pywrap_tensorflow.py\", line 18, in swig_import_helper\n    fp, pathname, description = imp.find_module('_pywrap_tensorflow', [dirname(__file__)])\n  File \"c:\\users\\charan tanuj\\appdata\\local\\programs\\python\\python38-32\\lib\\imp.py\", line 296, in find_module\n    raise ImportError(_ERR_MSG.format(name), name=name)\nImportError: No module named '_pywrap_tensorflow'\n\nDuring handling of the above exception, another exception occurred:\n\nTraceback (most recent call last):\n  File \"c:\\users\\charan tanuj\\appdata\\local\\programs\\python\\python38-32\\lib\\site-packages\\tensorflow\\python\\__init__.py\", line 66, in <module>\n    from tensorflow.python import pywrap_tensorflow\n  File \"c:\\users\\charan tanuj\\appdata\\local\\programs\\python\\python38-32\\lib\\site-packages\\tensorflow\\python\\pywrap_tensorflow.py\", line 28, in <module>\n    _pywrap_tensorflow = swig_import_helper()\n  File \"c:\\users\\charan tanuj\\appdata\\local\\programs\\python\\python38-32\\lib\\site-packages\\tensorflow\\python\\pywrap_tensorflow.py\", line 20, in swig_import_helper\n    import _pywrap_tensorflow\nModuleNotFoundError: No module named '_pywrap_tensorflow'\n\n\nFailed to load the native TensorFlow runtime.\n\nSee https://github.com/tensorflow/tensorflow/blob/master/tensorflow/g3doc/get_started/os_setup.md#import_error\n\nfor some common reasons and solutions.  Include the entire stack trace\nabove this error message when asking for help.",
     "output_type": "error",
     "traceback": [
      "\u001b[1;31m---------------------------------------------------------------------------\u001b[0m",
      "\u001b[1;31mImportError\u001b[0m                               Traceback (most recent call last)",
      "\u001b[1;32mc:\\users\\charan tanuj\\appdata\\local\\programs\\python\\python38-32\\lib\\site-packages\\tensorflow\\python\\pywrap_tensorflow.py\u001b[0m in \u001b[0;36mswig_import_helper\u001b[1;34m()\u001b[0m\n\u001b[0;32m     17\u001b[0m         \u001b[1;32mtry\u001b[0m\u001b[1;33m:\u001b[0m\u001b[1;33m\u001b[0m\u001b[1;33m\u001b[0m\u001b[0m\n\u001b[1;32m---> 18\u001b[1;33m             \u001b[0mfp\u001b[0m\u001b[1;33m,\u001b[0m \u001b[0mpathname\u001b[0m\u001b[1;33m,\u001b[0m \u001b[0mdescription\u001b[0m \u001b[1;33m=\u001b[0m \u001b[0mimp\u001b[0m\u001b[1;33m.\u001b[0m\u001b[0mfind_module\u001b[0m\u001b[1;33m(\u001b[0m\u001b[1;34m'_pywrap_tensorflow'\u001b[0m\u001b[1;33m,\u001b[0m \u001b[1;33m[\u001b[0m\u001b[0mdirname\u001b[0m\u001b[1;33m(\u001b[0m\u001b[0m__file__\u001b[0m\u001b[1;33m)\u001b[0m\u001b[1;33m]\u001b[0m\u001b[1;33m)\u001b[0m\u001b[1;33m\u001b[0m\u001b[1;33m\u001b[0m\u001b[0m\n\u001b[0m\u001b[0;32m     19\u001b[0m         \u001b[1;32mexcept\u001b[0m \u001b[0mImportError\u001b[0m\u001b[1;33m:\u001b[0m\u001b[1;33m\u001b[0m\u001b[1;33m\u001b[0m\u001b[0m\n",
      "\u001b[1;32mc:\\users\\charan tanuj\\appdata\\local\\programs\\python\\python38-32\\lib\\imp.py\u001b[0m in \u001b[0;36mfind_module\u001b[1;34m(name, path)\u001b[0m\n\u001b[0;32m    295\u001b[0m     \u001b[1;32melse\u001b[0m\u001b[1;33m:\u001b[0m\u001b[1;33m\u001b[0m\u001b[1;33m\u001b[0m\u001b[0m\n\u001b[1;32m--> 296\u001b[1;33m         \u001b[1;32mraise\u001b[0m \u001b[0mImportError\u001b[0m\u001b[1;33m(\u001b[0m\u001b[0m_ERR_MSG\u001b[0m\u001b[1;33m.\u001b[0m\u001b[0mformat\u001b[0m\u001b[1;33m(\u001b[0m\u001b[0mname\u001b[0m\u001b[1;33m)\u001b[0m\u001b[1;33m,\u001b[0m \u001b[0mname\u001b[0m\u001b[1;33m=\u001b[0m\u001b[0mname\u001b[0m\u001b[1;33m)\u001b[0m\u001b[1;33m\u001b[0m\u001b[1;33m\u001b[0m\u001b[0m\n\u001b[0m\u001b[0;32m    297\u001b[0m \u001b[1;33m\u001b[0m\u001b[0m\n",
      "\u001b[1;31mImportError\u001b[0m: No module named '_pywrap_tensorflow'",
      "\nDuring handling of the above exception, another exception occurred:\n",
      "\u001b[1;31mModuleNotFoundError\u001b[0m                       Traceback (most recent call last)",
      "\u001b[1;32mc:\\users\\charan tanuj\\appdata\\local\\programs\\python\\python38-32\\lib\\site-packages\\tensorflow\\python\\__init__.py\u001b[0m in \u001b[0;36m<module>\u001b[1;34m\u001b[0m\n\u001b[0;32m     65\u001b[0m     \u001b[1;31m# use `dlopen()` for dynamic loading.\u001b[0m\u001b[1;33m\u001b[0m\u001b[1;33m\u001b[0m\u001b[1;33m\u001b[0m\u001b[0m\n\u001b[1;32m---> 66\u001b[1;33m     \u001b[1;32mfrom\u001b[0m \u001b[0mtensorflow\u001b[0m\u001b[1;33m.\u001b[0m\u001b[0mpython\u001b[0m \u001b[1;32mimport\u001b[0m \u001b[0mpywrap_tensorflow\u001b[0m\u001b[1;33m\u001b[0m\u001b[1;33m\u001b[0m\u001b[0m\n\u001b[0m\u001b[0;32m     67\u001b[0m \u001b[1;32mexcept\u001b[0m \u001b[0mImportError\u001b[0m\u001b[1;33m:\u001b[0m\u001b[1;33m\u001b[0m\u001b[1;33m\u001b[0m\u001b[0m\n",
      "\u001b[1;32mc:\\users\\charan tanuj\\appdata\\local\\programs\\python\\python38-32\\lib\\site-packages\\tensorflow\\python\\pywrap_tensorflow.py\u001b[0m in \u001b[0;36m<module>\u001b[1;34m\u001b[0m\n\u001b[0;32m     27\u001b[0m             \u001b[1;32mreturn\u001b[0m \u001b[0m_mod\u001b[0m\u001b[1;33m\u001b[0m\u001b[1;33m\u001b[0m\u001b[0m\n\u001b[1;32m---> 28\u001b[1;33m     \u001b[0m_pywrap_tensorflow\u001b[0m \u001b[1;33m=\u001b[0m \u001b[0mswig_import_helper\u001b[0m\u001b[1;33m(\u001b[0m\u001b[1;33m)\u001b[0m\u001b[1;33m\u001b[0m\u001b[1;33m\u001b[0m\u001b[0m\n\u001b[0m\u001b[0;32m     29\u001b[0m     \u001b[1;32mdel\u001b[0m \u001b[0mswig_import_helper\u001b[0m\u001b[1;33m\u001b[0m\u001b[1;33m\u001b[0m\u001b[0m\n",
      "\u001b[1;32mc:\\users\\charan tanuj\\appdata\\local\\programs\\python\\python38-32\\lib\\site-packages\\tensorflow\\python\\pywrap_tensorflow.py\u001b[0m in \u001b[0;36mswig_import_helper\u001b[1;34m()\u001b[0m\n\u001b[0;32m     19\u001b[0m         \u001b[1;32mexcept\u001b[0m \u001b[0mImportError\u001b[0m\u001b[1;33m:\u001b[0m\u001b[1;33m\u001b[0m\u001b[1;33m\u001b[0m\u001b[0m\n\u001b[1;32m---> 20\u001b[1;33m             \u001b[1;32mimport\u001b[0m \u001b[0m_pywrap_tensorflow\u001b[0m\u001b[1;33m\u001b[0m\u001b[1;33m\u001b[0m\u001b[0m\n\u001b[0m\u001b[0;32m     21\u001b[0m             \u001b[1;32mreturn\u001b[0m \u001b[0m_pywrap_tensorflow\u001b[0m\u001b[1;33m\u001b[0m\u001b[1;33m\u001b[0m\u001b[0m\n",
      "\u001b[1;31mModuleNotFoundError\u001b[0m: No module named '_pywrap_tensorflow'",
      "\nDuring handling of the above exception, another exception occurred:\n",
      "\u001b[1;31mImportError\u001b[0m                               Traceback (most recent call last)",
      "\u001b[1;32m<ipython-input-2-a54acf94cf19>\u001b[0m in \u001b[0;36m<module>\u001b[1;34m\u001b[0m\n\u001b[0;32m      1\u001b[0m \u001b[1;32mimport\u001b[0m \u001b[0mos\u001b[0m\u001b[1;33m\u001b[0m\u001b[1;33m\u001b[0m\u001b[0m\n\u001b[0;32m      2\u001b[0m \u001b[1;33m\u001b[0m\u001b[0m\n\u001b[1;32m----> 3\u001b[1;33m \u001b[1;32mimport\u001b[0m \u001b[0mtensorflow\u001b[0m \u001b[1;32mas\u001b[0m \u001b[0mtf\u001b[0m\u001b[1;33m\u001b[0m\u001b[1;33m\u001b[0m\u001b[0m\n\u001b[0m\u001b[0;32m      4\u001b[0m \u001b[1;32mfrom\u001b[0m \u001b[0mtensorflow\u001b[0m \u001b[1;32mimport\u001b[0m \u001b[0mkeras\u001b[0m\u001b[1;33m\u001b[0m\u001b[1;33m\u001b[0m\u001b[0m\n\u001b[0;32m      5\u001b[0m \u001b[1;33m\u001b[0m\u001b[0m\n",
      "\u001b[1;32mc:\\users\\charan tanuj\\appdata\\local\\programs\\python\\python38-32\\lib\\site-packages\\tensorflow\\__init__.py\u001b[0m in \u001b[0;36m<module>\u001b[1;34m\u001b[0m\n\u001b[0;32m     22\u001b[0m \u001b[1;33m\u001b[0m\u001b[0m\n\u001b[0;32m     23\u001b[0m \u001b[1;31m# pylint: disable=wildcard-import\u001b[0m\u001b[1;33m\u001b[0m\u001b[1;33m\u001b[0m\u001b[1;33m\u001b[0m\u001b[0m\n\u001b[1;32m---> 24\u001b[1;33m \u001b[1;32mfrom\u001b[0m \u001b[0mtensorflow\u001b[0m\u001b[1;33m.\u001b[0m\u001b[0mpython\u001b[0m \u001b[1;32mimport\u001b[0m \u001b[1;33m*\u001b[0m\u001b[1;33m\u001b[0m\u001b[1;33m\u001b[0m\u001b[0m\n\u001b[0m\u001b[0;32m     25\u001b[0m \u001b[1;31m# pylint: enable=wildcard-import\u001b[0m\u001b[1;33m\u001b[0m\u001b[1;33m\u001b[0m\u001b[1;33m\u001b[0m\u001b[0m\n\u001b[0;32m     26\u001b[0m \u001b[1;33m\u001b[0m\u001b[0m\n",
      "\u001b[1;32mc:\\users\\charan tanuj\\appdata\\local\\programs\\python\\python38-32\\lib\\site-packages\\tensorflow\\python\\__init__.py\u001b[0m in \u001b[0;36m<module>\u001b[1;34m\u001b[0m\n\u001b[0;32m     70\u001b[0m \u001b[1;32mfor\u001b[0m \u001b[0msome\u001b[0m \u001b[0mcommon\u001b[0m \u001b[0mreasons\u001b[0m \u001b[1;32mand\u001b[0m \u001b[0msolutions\u001b[0m\u001b[1;33m.\u001b[0m  \u001b[0mInclude\u001b[0m \u001b[0mthe\u001b[0m \u001b[0mentire\u001b[0m \u001b[0mstack\u001b[0m \u001b[0mtrace\u001b[0m\u001b[1;33m\u001b[0m\u001b[1;33m\u001b[0m\u001b[0m\n\u001b[0;32m     71\u001b[0m above this error message when asking for help.\"\"\" % traceback.format_exc()\n\u001b[1;32m---> 72\u001b[1;33m   \u001b[1;32mraise\u001b[0m \u001b[0mImportError\u001b[0m\u001b[1;33m(\u001b[0m\u001b[0mmsg\u001b[0m\u001b[1;33m)\u001b[0m\u001b[1;33m\u001b[0m\u001b[1;33m\u001b[0m\u001b[0m\n\u001b[0m\u001b[0;32m     73\u001b[0m \u001b[1;33m\u001b[0m\u001b[0m\n\u001b[0;32m     74\u001b[0m \u001b[1;31m# Protocol buffers\u001b[0m\u001b[1;33m\u001b[0m\u001b[1;33m\u001b[0m\u001b[1;33m\u001b[0m\u001b[0m\n",
      "\u001b[1;31mImportError\u001b[0m: Traceback (most recent call last):\n  File \"c:\\users\\charan tanuj\\appdata\\local\\programs\\python\\python38-32\\lib\\site-packages\\tensorflow\\python\\pywrap_tensorflow.py\", line 18, in swig_import_helper\n    fp, pathname, description = imp.find_module('_pywrap_tensorflow', [dirname(__file__)])\n  File \"c:\\users\\charan tanuj\\appdata\\local\\programs\\python\\python38-32\\lib\\imp.py\", line 296, in find_module\n    raise ImportError(_ERR_MSG.format(name), name=name)\nImportError: No module named '_pywrap_tensorflow'\n\nDuring handling of the above exception, another exception occurred:\n\nTraceback (most recent call last):\n  File \"c:\\users\\charan tanuj\\appdata\\local\\programs\\python\\python38-32\\lib\\site-packages\\tensorflow\\python\\__init__.py\", line 66, in <module>\n    from tensorflow.python import pywrap_tensorflow\n  File \"c:\\users\\charan tanuj\\appdata\\local\\programs\\python\\python38-32\\lib\\site-packages\\tensorflow\\python\\pywrap_tensorflow.py\", line 28, in <module>\n    _pywrap_tensorflow = swig_import_helper()\n  File \"c:\\users\\charan tanuj\\appdata\\local\\programs\\python\\python38-32\\lib\\site-packages\\tensorflow\\python\\pywrap_tensorflow.py\", line 20, in swig_import_helper\n    import _pywrap_tensorflow\nModuleNotFoundError: No module named '_pywrap_tensorflow'\n\n\nFailed to load the native TensorFlow runtime.\n\nSee https://github.com/tensorflow/tensorflow/blob/master/tensorflow/g3doc/get_started/os_setup.md#import_error\n\nfor some common reasons and solutions.  Include the entire stack trace\nabove this error message when asking for help."
     ]
    }
   ],
   "source": [
    "import os\n",
    "\n",
    "import tensorflow as tf\n",
    "from tensorflow import keras\n",
    "\n",
    "print(tf.version.VERSION)"
   ]
  },
  {
   "cell_type": "code",
   "execution_count": null,
   "metadata": {
    "id": "PaoifkkDN32H"
   },
   "outputs": [],
   "source": [
    "df = pd.read_csv(\"Hand_raise_to_chest_merged.csv\")"
   ]
  },
  {
   "cell_type": "markdown",
   "metadata": {
    "id": "K-BIS4OMwPzC"
   },
   "source": [
    "# New section"
   ]
  },
  {
   "cell_type": "code",
   "execution_count": null,
   "metadata": {
    "colab": {
     "base_uri": "https://localhost:8080/",
     "height": 224
    },
    "id": "3qBo4U_6Q0Q5",
    "outputId": "055da740-2990-4af2-adc8-8f88a3462d2e"
   },
   "outputs": [],
   "source": [
    "print(df.shape)\n",
    "df.head()"
   ]
  },
  {
   "cell_type": "code",
   "execution_count": null,
   "metadata": {
    "colab": {
     "base_uri": "https://localhost:8080/"
    },
    "id": "FEI0S0S8sxsj",
    "outputId": "8508b67d-c996-42cb-84ee-8007c88772f0"
   },
   "outputs": [],
   "source": [
    "df.isnull().sum()"
   ]
  },
  {
   "cell_type": "code",
   "execution_count": null,
   "metadata": {
    "colab": {
     "base_uri": "https://localhost:8080/",
     "height": 81
    },
    "id": "j-ZMkdV4cJCZ",
    "outputId": "1d299075-96ba-4683-fc11-f1e80c1ec533"
   },
   "outputs": [],
   "source": [
    "df[df.isna().any(axis=1)]"
   ]
  },
  {
   "cell_type": "code",
   "execution_count": null,
   "metadata": {
    "colab": {
     "base_uri": "https://localhost:8080/"
    },
    "id": "zCoURYKucQUK",
    "outputId": "4564faf5-2bf7-4411-bf56-84f96800aa9c"
   },
   "outputs": [],
   "source": [
    "df.dropna(inplace = True)\n",
    "print(df.shape)\n",
    "df.isnull().sum()"
   ]
  },
  {
   "cell_type": "code",
   "execution_count": null,
   "metadata": {
    "colab": {
     "base_uri": "https://localhost:8080/",
     "height": 300
    },
    "id": "1DIhpJQTRILi",
    "outputId": "3e3dc671-746a-4aad-fed8-dee6815a52ee"
   },
   "outputs": [],
   "source": [
    "df.describe()"
   ]
  },
  {
   "cell_type": "markdown",
   "metadata": {
    "id": "8EhksrRWbICU"
   },
   "source": [
    "**PCA**"
   ]
  },
  {
   "cell_type": "code",
   "execution_count": null,
   "metadata": {
    "colab": {
     "base_uri": "https://localhost:8080/",
     "height": 206
    },
    "id": "tJ95n5whoZqg",
    "outputId": "0201012a-ada4-466f-aa4a-811ca6774cbd"
   },
   "outputs": [],
   "source": [
    "df.head()"
   ]
  },
  {
   "cell_type": "code",
   "execution_count": null,
   "metadata": {
    "id": "Ars7QqNXoE-Q"
   },
   "outputs": [],
   "source": [
    "from sklearn import preprocessing\n",
    "from sklearn.preprocessing import MinMaxScaler\n",
    "#df1 = df.drop('time', axis = 1)\n",
    "df1 = df.drop('Time Stamp', axis = 1)\n",
    "df_normal = MinMaxScaler().fit_transform(df1)\n",
    "df_normal = pd.DataFrame(df_normal, columns =df1.columns)\n"
   ]
  },
  {
   "cell_type": "code",
   "execution_count": null,
   "metadata": {
    "colab": {
     "base_uri": "https://localhost:8080/",
     "height": 608
    },
    "id": "ynodu51xVRJf",
    "outputId": "7e000cdd-1e8c-49ab-a227-29d388a16a94"
   },
   "outputs": [],
   "source": [
    "df_normal.hist(figsize=(20,10), grid = False, layout=(2,4), bins = 30);"
   ]
  },
  {
   "cell_type": "markdown",
   "metadata": {
    "id": "N1eDBEO0cCVh"
   },
   "source": [
    "We notice that there might be a strong relationship between Y_Acc and Z_acc, X_Orient and Y_Orient, X_Acc and Z_Orient\n",
    "\n",
    "linear models work on the assumption that the distribution of the independent variable and the target variable are similar. Therefore, knowing about the skewness of data helps us in creating better linear models."
   ]
  },
  {
   "cell_type": "code",
   "execution_count": null,
   "metadata": {
    "id": "9M7CTiI8jB4O"
   },
   "outputs": [],
   "source": [
    "import numpy as np\n",
    "\n",
    "nf = df_normal.select_dtypes(include=[np.number]).columns\n",
    "cf = df_normal.select_dtypes(include=[np.object]).columns"
   ]
  },
  {
   "cell_type": "code",
   "execution_count": null,
   "metadata": {
    "colab": {
     "base_uri": "https://localhost:8080/",
     "height": 237
    },
    "id": "eEaliP-xjSmX",
    "outputId": "0434777d-0e1a-4215-e6a5-fbf36b6dda49"
   },
   "outputs": [],
   "source": [
    "from scipy import stats\n",
    "skew_list = stats.skew(df_normal[nf])\n",
    "skew_list_df = pd.concat([pd.DataFrame(nf,columns=['Features']),pd.DataFrame(skew_list,columns=['Skewness'])],axis = 1)\n",
    "skew_list_df.sort_values(by='Skewness', ascending = False)"
   ]
  },
  {
   "cell_type": "markdown",
   "metadata": {
    "id": "OuZV8t5BlOQV"
   },
   "source": [
    "We notice that Z_Acc is moderately skewed follwed my Y_Orient. This skewness in Z_Acc feature may be an outcome of outliers. can analyse it further using scatter plots."
   ]
  },
  {
   "cell_type": "code",
   "execution_count": null,
   "metadata": {
    "colab": {
     "base_uri": "https://localhost:8080/",
     "height": 1000
    },
    "id": "8Z-RlyaokiqO",
    "outputId": "3cb4c50c-fbb6-446f-c500-bf054ebeb6be"
   },
   "outputs": [],
   "source": [
    "sns.set()\n",
    "cols = df1.columns\n",
    "sns.pairplot(df_normal[cols], height = 2.5)\n",
    "plt.show();"
   ]
  },
  {
   "cell_type": "code",
   "execution_count": null,
   "metadata": {
    "id": "mlSUF-3LuGnn"
   },
   "outputs": [],
   "source": [
    "from sklearn.preprocessing import StandardScaler\n",
    "X = df_normal.drop(['Y_Orient'], axis = 1)\n",
    "y = df_normal['Y_Orient']\n",
    "X_std = StandardScaler().fit_transform(X)\n",
    "X_mean = np.mean(X_std, axis=0)\n",
    "#X_cov = np.cov(X_std.T)\n",
    "X_cov = (X_std - X_mean).T.dot((X_std - X_mean)) / (X_std.shape[0]-1)"
   ]
  },
  {
   "cell_type": "code",
   "execution_count": null,
   "metadata": {
    "colab": {
     "base_uri": "https://localhost:8080/"
    },
    "id": "6XATsXIKuR-H",
    "outputId": "c68b90da-2110-4a18-9af4-69ec6fb8d8a3"
   },
   "outputs": [],
   "source": [
    "corr_mat = np.corrcoef(X_std.T)\n",
    "eigenvalues, eigenvectors = np.linalg.eig(corr_mat)\n",
    "print('\\nEigenvalues \\n%s' %eigenvalues)"
   ]
  },
  {
   "cell_type": "code",
   "execution_count": null,
   "metadata": {
    "id": "WEvt24IOuWCt"
   },
   "outputs": [],
   "source": [
    "pairs = [(np.abs(eigenvalues[i]), eigenvectors[:,i]) for i in range(len(eigenvalues))]\n",
    "pairs.sort(key = lambda x: x[0], reverse = True)"
   ]
  },
  {
   "cell_type": "code",
   "execution_count": null,
   "metadata": {
    "colab": {
     "base_uri": "https://localhost:8080/"
    },
    "id": "xsZKXToruSZD",
    "outputId": "bde387c3-caee-4f98-c878-9ecc7b6936c6"
   },
   "outputs": [],
   "source": [
    "sorted_eigenval = []\n",
    "for i in pairs:\n",
    "    sorted_eigenval.append(i[0])\n",
    "print(sorted_eigenval)"
   ]
  },
  {
   "cell_type": "code",
   "execution_count": null,
   "metadata": {
    "id": "DBy8d7nfuchv"
   },
   "outputs": [],
   "source": [
    "total = sum(eigenvalues)\n",
    "variance_explained = [(i/total)*100 for i in sorted_eigenval]"
   ]
  },
  {
   "cell_type": "code",
   "execution_count": null,
   "metadata": {
    "colab": {
     "base_uri": "https://localhost:8080/"
    },
    "id": "PCgHsQwWufw-",
    "outputId": "6e5de7bf-7602-4dd0-d3bf-32b16f88ed0d"
   },
   "outputs": [],
   "source": [
    "variance_explained"
   ]
  },
  {
   "cell_type": "code",
   "execution_count": null,
   "metadata": {
    "colab": {
     "base_uri": "https://localhost:8080/"
    },
    "id": "YVv9TLs-uh9N",
    "outputId": "62bfddf2-2caa-4703-bfc9-cb138a925910"
   },
   "outputs": [],
   "source": [
    "cum_variance_explained = np.cumsum(variance_explained)\n",
    "cum_variance_explained"
   ]
  },
  {
   "cell_type": "code",
   "execution_count": null,
   "metadata": {
    "colab": {
     "base_uri": "https://localhost:8080/",
     "height": 433
    },
    "id": "MKTCiU86ukWy",
    "outputId": "b7c9978a-17b0-4a42-84e5-9899136105d0"
   },
   "outputs": [],
   "source": [
    "with plt.style.context('fivethirtyeight'):\n",
    "    plt.figure(figsize=(8, 6))\n",
    "    plt.bar(range(5), variance_explained, alpha=0.7, align='center',\n",
    "            label='individual explained variance')\n",
    "    plt.step(range(5), cum_variance_explained, where='mid',\n",
    "             label='cumulative explained variance')\n",
    "    plt.ylabel('Explained variance ratio')\n",
    "    plt.xlabel('Principal components')\n",
    "    plt.legend(loc='best')\n",
    "    plt.tight_layout();"
   ]
  },
  {
   "cell_type": "code",
   "execution_count": null,
   "metadata": {
    "id": "QsrahMZfu4cW"
   },
   "outputs": [],
   "source": [
    "projection_mat = np.hstack((pairs[0][1].reshape(5,1),\n",
    "                           pairs[1][1].reshape(5,1),\n",
    "                           pairs[2][1].reshape(5,1) \n",
    "                           ))"
   ]
  },
  {
   "cell_type": "code",
   "execution_count": null,
   "metadata": {
    "colab": {
     "base_uri": "https://localhost:8080/"
    },
    "id": "-s9R74sOvC66",
    "outputId": "2d85a4d9-b7d6-41c2-ef8b-98b126afb058"
   },
   "outputs": [],
   "source": [
    "X_new = X_std.dot(projection_mat)\n",
    "X_new.shape"
   ]
  },
  {
   "cell_type": "code",
   "execution_count": null,
   "metadata": {
    "id": "QWwG3w_svRps"
   },
   "outputs": [],
   "source": [
    "from sklearn.model_selection import train_test_split\n",
    "X_train, X_test, y_train, y_test = train_test_split(X_new, y, test_size=0.32, random_state = 1)"
   ]
  },
  {
   "cell_type": "code",
   "execution_count": null,
   "metadata": {
    "colab": {
     "base_uri": "https://localhost:8080/"
    },
    "id": "XywWETjbvhRO",
    "outputId": "298b3090-7777-4a83-80b4-32298a5eb830"
   },
   "outputs": [],
   "source": [
    "from sklearn.neural_network import MLPRegressor\n",
    "from sklearn.metrics import r2_score\n",
    "reg = MLPRegressor(hidden_layer_sizes=(64,64,64),activation=\"relu\", max_iter=1000).fit(X_train , y_train)\n",
    "y_pred=reg.predict(X_test)\n",
    "print(\"The Score with \", (r2_score(y_pred, y_test)))"
   ]
  },
  {
   "cell_type": "code",
   "execution_count": null,
   "metadata": {
    "id": "CGRjiQxOd3O_"
   },
   "outputs": [],
   "source": [
    "d1 = pd.read_csv(\"50hz_merged_hand_rise_to_chest.csv\")"
   ]
  },
  {
   "cell_type": "code",
   "execution_count": null,
   "metadata": {
    "colab": {
     "base_uri": "https://localhost:8080/",
     "height": 206
    },
    "id": "eXpR4ysfekuN",
    "outputId": "aaaddd17-21e2-4840-e96b-a6a6eba54825"
   },
   "outputs": [],
   "source": [
    "d1.head()"
   ]
  },
  {
   "cell_type": "code",
   "execution_count": null,
   "metadata": {
    "id": "1kRVJCQres8U"
   },
   "outputs": [],
   "source": [
    "y_test = d1['Y_Orient']\n",
    "test = d1.drop(['Y_Orient', 'X_Orient', 'X_Orient'], axis = 1)"
   ]
  },
  {
   "cell_type": "code",
   "execution_count": null,
   "metadata": {
    "colab": {
     "base_uri": "https://localhost:8080/",
     "height": 396
    },
    "id": "CEbpZRcRdz7M",
    "outputId": "8abf9e95-eafb-4bc0-9d47-374bbd8ba676"
   },
   "outputs": [],
   "source": [
    "\n",
    "y_pred1 = reg.predict(test)\n",
    "print(\"The Score with \", (r2_score(y_pred1, y_test)))"
   ]
  },
  {
   "cell_type": "markdown",
   "metadata": {
    "id": "I85rY-MO-knp"
   },
   "source": [
    "**PCA done**"
   ]
  },
  {
   "cell_type": "markdown",
   "metadata": {
    "id": "Ex4HEClY-ncw"
   },
   "source": []
  },
  {
   "cell_type": "code",
   "execution_count": null,
   "metadata": {
    "colab": {
     "base_uri": "https://localhost:8080/",
     "height": 503
    },
    "id": "9ERNH_EuwrgI",
    "outputId": "554a3520-e2a9-4fa4-836e-c6e1935ab3ce"
   },
   "outputs": [],
   "source": [
    "sns.set(rc={'figure.figsize':(16,8)})\n",
    "sns.kdeplot(data=df)"
   ]
  },
  {
   "cell_type": "code",
   "execution_count": null,
   "metadata": {
    "colab": {
     "base_uri": "https://localhost:8080/",
     "height": 503
    },
    "id": "l40OqqESw2bL",
    "outputId": "aa7c7c85-2a1c-416f-823d-b28eafe6990f"
   },
   "outputs": [],
   "source": [
    "df.plot(kind = 'hist', bins = 100, figsize = (16,8))"
   ]
  },
  {
   "cell_type": "code",
   "execution_count": null,
   "metadata": {
    "id": "19rHpD6oczpP"
   },
   "outputs": [],
   "source": []
  },
  {
   "cell_type": "code",
   "execution_count": null,
   "metadata": {
    "colab": {
     "base_uri": "https://localhost:8080/",
     "height": 423
    },
    "id": "KI3wSbpkjjSk",
    "outputId": "a7c7266d-f2f1-4c97-d05a-2a53c579401d"
   },
   "outputs": [],
   "source": [
    "X = df.copy()\n",
    "X.pop('Time Stamp')\n",
    "X.pop('Y_Orient')\n",
    "X.pop('Y_Acc')\n",
    "X.pop('Z_Acc')\n",
    "X"
   ]
  },
  {
   "cell_type": "code",
   "execution_count": null,
   "metadata": {
    "colab": {
     "base_uri": "https://localhost:8080/",
     "height": 503
    },
    "id": "BVVVXiChw_hd",
    "outputId": "a2612114-74c6-4daa-8dcb-261ad2f5a54f"
   },
   "outputs": [],
   "source": [
    "#X_train.plot(kind = 'hist', bins = 100, figsize = (16,8))\n",
    "sns.kdeplot(data=X)"
   ]
  },
  {
   "cell_type": "code",
   "execution_count": null,
   "metadata": {
    "colab": {
     "base_uri": "https://localhost:8080/",
     "height": 423
    },
    "id": "EMzJumR9xIHp",
    "outputId": "cee6a4ab-93c8-426c-dbb4-4b5c2db70bf6"
   },
   "outputs": [],
   "source": [
    "y = df[['Y_Orient', 'Y_Acc', 'Z_Acc']]\n",
    "y"
   ]
  },
  {
   "cell_type": "code",
   "execution_count": null,
   "metadata": {
    "id": "ABKJC1ojc961"
   },
   "outputs": [],
   "source": [
    "from sklearn.model_selection import train_test_split\n",
    "X_train, X_test, y_train, y_test = train_test_split(X, y, test_size=0.32, random_state = 1)"
   ]
  },
  {
   "cell_type": "markdown",
   "metadata": {
    "id": "-HxuKYpNyUHM"
   },
   "source": [
    "Normalize data"
   ]
  },
  {
   "cell_type": "code",
   "execution_count": null,
   "metadata": {
    "colab": {
     "base_uri": "https://localhost:8080/",
     "height": 300
    },
    "id": "-2WRf4tNyRhk",
    "outputId": "f5d9a0ae-b49f-4bba-dca1-7879583d2a52"
   },
   "outputs": [],
   "source": [
    "from sklearn import preprocessing\n",
    "from sklearn.preprocessing import MinMaxScaler\n",
    "X_trainnormal = MinMaxScaler().fit_transform(X_train)\n",
    "X_trainnormal = pd.DataFrame(X_trainnormal, columns =X_train.columns)\n",
    "X_trainnormal.describe()"
   ]
  },
  {
   "cell_type": "code",
   "execution_count": null,
   "metadata": {
    "colab": {
     "base_uri": "https://localhost:8080/",
     "height": 423
    },
    "id": "6gQzKwJqymop",
    "outputId": "be5f68fd-951c-4f42-daa6-c8f2bcccf28c"
   },
   "outputs": [],
   "source": [
    "X_trainnormal"
   ]
  },
  {
   "cell_type": "code",
   "execution_count": null,
   "metadata": {
    "colab": {
     "base_uri": "https://localhost:8080/",
     "height": 577
    },
    "id": "oBV75mWsyscy",
    "outputId": "3b642286-a6c0-49ec-e200-df9b7a47b8c9"
   },
   "outputs": [],
   "source": [
    "sns.distplot(X_trainnormal[\"X_Acc\"])"
   ]
  },
  {
   "cell_type": "code",
   "execution_count": null,
   "metadata": {
    "colab": {
     "base_uri": "https://localhost:8080/",
     "height": 503
    },
    "id": "3blSSdPVyw6c",
    "outputId": "64666780-765c-4dc5-fca5-0864c72d45bf"
   },
   "outputs": [],
   "source": [
    "sns.kdeplot(data=X_trainnormal)"
   ]
  },
  {
   "cell_type": "code",
   "execution_count": null,
   "metadata": {
    "colab": {
     "base_uri": "https://localhost:8080/",
     "height": 503
    },
    "id": "sX_fJy4ky0_A",
    "outputId": "8d52d175-cc57-43db-959d-e5b0f4f816d3"
   },
   "outputs": [],
   "source": [
    "X_trainnormal.plot(kind = 'hist', bins = 50)"
   ]
  },
  {
   "cell_type": "code",
   "execution_count": null,
   "metadata": {
    "colab": {
     "base_uri": "https://localhost:8080/",
     "height": 300
    },
    "id": "f7TTGg2AzKNp",
    "outputId": "6f946f2d-a93c-476d-a8e0-382541bb3d7f"
   },
   "outputs": [],
   "source": [
    "X_testnormal = MinMaxScaler().fit_transform(X_test)\n",
    "X_testnormal = pd.DataFrame(X_testnormal, columns =X_test.columns)\n",
    "X_testnormal.describe()"
   ]
  },
  {
   "cell_type": "code",
   "execution_count": null,
   "metadata": {
    "colab": {
     "base_uri": "https://localhost:8080/",
     "height": 423
    },
    "id": "YRoN3FNwzajH",
    "outputId": "77c59ed2-ac26-43dd-e9ff-046b8e23d242"
   },
   "outputs": [],
   "source": [
    "X_testnormal"
   ]
  },
  {
   "cell_type": "code",
   "execution_count": null,
   "metadata": {
    "colab": {
     "base_uri": "https://localhost:8080/",
     "height": 503
    },
    "id": "VmdFfICJzfHI",
    "outputId": "0aec9a78-fd72-4825-fb48-bf589be9cf9f"
   },
   "outputs": [],
   "source": [
    "sns.kdeplot(data=X_testnormal)"
   ]
  },
  {
   "cell_type": "code",
   "execution_count": null,
   "metadata": {
    "colab": {
     "base_uri": "https://localhost:8080/",
     "height": 54
    },
    "id": "TsArguM8y9gh",
    "outputId": "9716b2bc-e843-4f90-8dab-c7325486ad5a"
   },
   "outputs": [],
   "source": [
    "'''\n",
    "normalized_X1 = preprocessing.normalize(X_train)\n",
    "normalized_X1 = pd.DataFrame(normalized_X1, columns=X.columns)\n",
    "normalized_X1.describe()\n",
    "sns.kdeplot(data=normalized_X1)\n",
    "normalized_X1\n",
    "normalized_X1.plot(kind = 'hist', bins = 100)\n",
    "sns.set(rc={'figure.figsize':(16,8)})\n",
    "sns.kdeplot(data=normalized_X1)\n",
    "'''"
   ]
  },
  {
   "cell_type": "markdown",
   "metadata": {
    "id": "F5npCJDozA5g"
   },
   "source": [
    "Standardzing Data"
   ]
  },
  {
   "cell_type": "code",
   "execution_count": null,
   "metadata": {
    "id": "EcnTZo_5zD7z"
   },
   "outputs": [],
   "source": [
    "from sklearn.preprocessing import StandardScaler\n",
    "sc = StandardScaler()\n",
    "X_trainscaled=sc.fit_transform(X_train)\n",
    "X_testscaled=sc.fit_transform(X_test)"
   ]
  },
  {
   "cell_type": "code",
   "execution_count": null,
   "metadata": {
    "colab": {
     "base_uri": "https://localhost:8080/",
     "height": 423
    },
    "id": "ELlCC-gkzzhS",
    "outputId": "ebd50b1c-6d10-4f2b-e517-009cd88eb72c"
   },
   "outputs": [],
   "source": [
    "X_trainscaled = pd.DataFrame(X_trainscaled, columns=X_train.columns)\n",
    "X_trainscaled"
   ]
  },
  {
   "cell_type": "code",
   "execution_count": null,
   "metadata": {
    "colab": {
     "base_uri": "https://localhost:8080/",
     "height": 423
    },
    "id": "4siDkfF5z6SM",
    "outputId": "239a597e-ddbd-4b35-ae15-326dd6b5ca8f"
   },
   "outputs": [],
   "source": [
    "X_testscaled = pd.DataFrame(X_testscaled, columns=X_test.columns)\n",
    "X_testscaled"
   ]
  },
  {
   "cell_type": "code",
   "execution_count": null,
   "metadata": {
    "colab": {
     "base_uri": "https://localhost:8080/",
     "height": 503
    },
    "id": "fSfOM7Ju0I-r",
    "outputId": "cffc8498-d5ac-4f51-d7df-bb4880d3a63c"
   },
   "outputs": [],
   "source": [
    "sns.kdeplot(data=X_trainscaled)"
   ]
  },
  {
   "cell_type": "code",
   "execution_count": null,
   "metadata": {
    "colab": {
     "base_uri": "https://localhost:8080/",
     "height": 503
    },
    "id": "PQCE1ApD0DR6",
    "outputId": "be2ff872-c08f-4ae6-ba5f-d18219ee9f4e"
   },
   "outputs": [],
   "source": [
    "sns.kdeplot(data=X_testscaled)"
   ]
  },
  {
   "cell_type": "code",
   "execution_count": null,
   "metadata": {
    "id": "shYlNUQVpdob"
   },
   "outputs": [],
   "source": [
    "from sklearn.decomposition import PCA\n",
    "pca = PCA(0.95)\n",
    "principalComponents = pca.fit_transform(X_trainnormal)\n",
    "principalDf = pd.DataFrame(data = principalComponents)"
   ]
  },
  {
   "cell_type": "code",
   "execution_count": null,
   "metadata": {
    "colab": {
     "base_uri": "https://localhost:8080/",
     "height": 423
    },
    "id": "An6AXlllqArS",
    "outputId": "c9a8a75e-e5cf-494c-99c2-307f6a61a137"
   },
   "outputs": [],
   "source": [
    "principalDf"
   ]
  },
  {
   "cell_type": "code",
   "execution_count": null,
   "metadata": {
    "id": "qqKwJ3IUuiYp"
   },
   "outputs": [],
   "source": [
    "## MLP"
   ]
  },
  {
   "cell_type": "code",
   "execution_count": null,
   "metadata": {
    "id": "X5k4gnr-0kv9"
   },
   "outputs": [],
   "source": [
    "from sklearn.neural_network import MLPRegressor\n",
    "from sklearn.metrics import r2_score"
   ]
  },
  {
   "cell_type": "code",
   "execution_count": null,
   "metadata": {
    "colab": {
     "base_uri": "https://localhost:8080/"
    },
    "id": "cLKPve-IcOm1",
    "outputId": "9cf87fdd-f09c-41f5-b29f-5c29758208ab"
   },
   "outputs": [],
   "source": [
    "\n",
    "reg = MLPRegressor(hidden_layer_sizes=(64,64,64),activation=\"relu\", max_iter=1000).fit(X_trainnormal , y_train)\n",
    "y_pred=reg.predict(X_testnormal)\n",
    "print(\"The Score with \", (r2_score(y_pred, y_test)))\n"
   ]
  },
  {
   "cell_type": "code",
   "execution_count": null,
   "metadata": {
    "colab": {
     "base_uri": "https://localhost:8080/"
    },
    "id": "sINpwo2OpPzg",
    "outputId": "32a9315a-2aac-46b7-8e1b-c534f0c9891e"
   },
   "outputs": [],
   "source": [
    "import pickle\n",
    "HRC_NN_split = 'final_model.sav'\n",
    "pickle.dump(reg, open(HRC_NN_split, 'wb'))\n",
    "loaded_model = pickle.load(open(HRC_NN_split, 'rb'))\n",
    "y_pred = loaded_model.predict(X_testnormal)\n",
    "print(r2_score(y_pred, y_test))"
   ]
  },
  {
   "cell_type": "code",
   "execution_count": null,
   "metadata": {
    "colab": {
     "base_uri": "https://localhost:8080/"
    },
    "id": "Nknzp1ZFfUB3",
    "outputId": "70a359e6-f9df-49ad-88d1-60e5449b8432"
   },
   "outputs": [],
   "source": [
    "reg1 = MLPRegressor(hidden_layer_sizes=(64,64,64),activation=\"relu\", max_iter=1000).fit(X_trainscaled, y_train)\n",
    "y_pred=reg1.predict(X_testscaled)\n",
    "print(\"The Score with \", (r2_score(y_pred, y_test)))"
   ]
  },
  {
   "cell_type": "code",
   "execution_count": null,
   "metadata": {
    "colab": {
     "base_uri": "https://localhost:8080/"
    },
    "id": "ixQyJeQdcxtk",
    "outputId": "588e63bd-d9f5-492b-b430-4da3ece2890a"
   },
   "outputs": [],
   "source": [
    "#import pickle\n",
    "HRC_NN_split = 'final_model.sav'\n",
    "pickle.dump(reg1, open(HRC_NN_split, 'wb'))\n",
    "loaded_model = pickle.load(open(HRC_NN_split, 'rb'))\n",
    "y_pred = loaded_model.predict(X_testscaled)\n",
    "print(r2_score(y_pred, y_test))"
   ]
  },
  {
   "cell_type": "code",
   "execution_count": null,
   "metadata": {
    "colab": {
     "base_uri": "https://localhost:8080/"
    },
    "id": "tbDoY_AecjMO",
    "outputId": "e97dc26d-6c8b-4b9a-d49d-d299b35c0b20"
   },
   "outputs": [],
   "source": [
    "reg2 = MLPRegressor(hidden_layer_sizes=(256,128,64),activation=\"relu\", max_iter=900).fit(X_trainscaled, y_train)\n",
    "y_pred=reg2.predict(X_testscaled)\n",
    "print(\"The Score with \", (r2_score(y_pred, y_test)))"
   ]
  },
  {
   "cell_type": "code",
   "execution_count": null,
   "metadata": {
    "colab": {
     "base_uri": "https://localhost:8080/"
    },
    "id": "Sb_2SutoeDdD",
    "outputId": "2f1c5cd0-8fce-44ec-88a9-8b140458ec9d"
   },
   "outputs": [],
   "source": [
    "reg3 = MLPRegressor(hidden_layer_sizes=(256,128,64),activation=\"relu\", max_iter=1000).fit(X_trainscaled, y_train)\n",
    "y_pred=reg3.predict(X_testscaled)\n",
    "print(\"The Score with \", (r2_score(y_pred, y_test)))"
   ]
  },
  {
   "cell_type": "code",
   "execution_count": null,
   "metadata": {
    "colab": {
     "base_uri": "https://localhost:8080/"
    },
    "id": "qfzZUvY4eQ5E",
    "outputId": "ea6e6897-cd31-4823-e94b-8bcfc09181c4"
   },
   "outputs": [],
   "source": [
    "reg4 = MLPRegressor(hidden_layer_sizes=(64,64,64), activation=\"tanh\", max_iter=1000).fit(X_trainscaled, y_train)\n",
    "y_pred=reg4.predict(X_testscaled)\n",
    "print(\"The Score with \", (r2_score(y_pred, y_test)))"
   ]
  },
  {
   "cell_type": "code",
   "execution_count": null,
   "metadata": {
    "colab": {
     "base_uri": "https://localhost:8080/"
    },
    "id": "XaG05Q4veh-C",
    "outputId": "4dad358f-ab66-4348-b9b2-424118171b65"
   },
   "outputs": [],
   "source": [
    "reg5 = MLPRegressor(hidden_layer_sizes=(256,128,64), activation=\"tanh\", max_iter=1000).fit(X_trainscaled, y_train)\n",
    "y_pred=reg5.predict(X_testscaled)\n",
    "print(\"The Score with \", (r2_score(y_pred, y_test)))"
   ]
  },
  {
   "cell_type": "code",
   "execution_count": null,
   "metadata": {
    "id": "PTsRLg3gc4oN"
   },
   "outputs": [],
   "source": []
  }
 ],
 "metadata": {
  "colab": {
   "collapsed_sections": [],
   "name": "Copy of HRTC_split",
   "provenance": []
  },
  "kernelspec": {
   "display_name": "Python 3",
   "language": "python",
   "name": "python3"
  },
  "language_info": {
   "codemirror_mode": {
    "name": "ipython",
    "version": 3
   },
   "file_extension": ".py",
   "mimetype": "text/x-python",
   "name": "python",
   "nbconvert_exporter": "python",
   "pygments_lexer": "ipython3",
   "version": "3.8.3"
  }
 },
 "nbformat": 4,
 "nbformat_minor": 1
}
