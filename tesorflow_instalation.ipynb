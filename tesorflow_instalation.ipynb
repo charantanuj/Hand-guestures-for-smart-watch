{
 "cells": [
  {
   "cell_type": "code",
   "execution_count": 3,
   "metadata": {},
   "outputs": [
    {
     "name": "stdout",
     "output_type": "stream",
     "text": [
      "Requirement already satisfied: pip in c:\\users\\charan tanuj\\appdata\\local\\programs\\python\\python38-32\\lib\\site-packages (21.3.1)\n"
     ]
    }
   ],
   "source": [
    "!pip install --upgrade pip\n"
   ]
  },
  {
   "cell_type": "code",
   "execution_count": 8,
   "metadata": {
    "scrolled": true
   },
   "outputs": [
    {
     "name": "stdout",
     "output_type": "stream",
     "text": [
      "^C\n"
     ]
    }
   ],
   "source": [
    "!pip uninstall tensorflow"
   ]
  },
  {
   "cell_type": "code",
   "execution_count": 13,
   "metadata": {},
   "outputs": [
    {
     "name": "stderr",
     "output_type": "stream",
     "text": [
      "ERROR: Could not find a version that satisfies the requirement tf-nightly (from versions: none)\n",
      "ERROR: No matching distribution found for tf-nightly\n"
     ]
    }
   ],
   "source": [
    "!pip install tf-nightly"
   ]
  },
  {
   "cell_type": "code",
   "execution_count": 12,
   "metadata": {},
   "outputs": [
    {
     "name": "stdout",
     "output_type": "stream",
     "text": [
      "Requirement already satisfied: tensorflow in c:\\users\\charan tanuj\\appdata\\local\\programs\\python\\python38-32\\lib\\site-packages (1.0.0)\n",
      "Requirement already satisfied: protobuf>=3.1.0 in c:\\users\\charan tanuj\\appdata\\local\\programs\\python\\python38-32\\lib\\site-packages (from tensorflow) (3.17.0)\n",
      "Requirement already satisfied: wheel>=0.26 in c:\\users\\charan tanuj\\appdata\\local\\programs\\python\\python38-32\\lib\\site-packages (from tensorflow) (0.34.2)\n",
      "Requirement already satisfied: six>=1.10.0 in c:\\users\\charan tanuj\\appdata\\local\\programs\\python\\python38-32\\lib\\site-packages (from tensorflow) (1.15.0)\n",
      "Requirement already satisfied: numpy>=1.11.0 in c:\\users\\charan tanuj\\appdata\\local\\programs\\python\\python38-32\\lib\\site-packages (from tensorflow) (1.18.5)\n"
     ]
    }
   ],
   "source": [
    "!pip install tensorflow"
   ]
  },
  {
   "cell_type": "code",
   "execution_count": null,
   "metadata": {},
   "outputs": [],
   "source": []
  }
 ],
 "metadata": {
  "kernelspec": {
   "display_name": "Python 3",
   "language": "python",
   "name": "python3"
  },
  "language_info": {
   "codemirror_mode": {
    "name": "ipython",
    "version": 3
   },
   "file_extension": ".py",
   "mimetype": "text/x-python",
   "name": "python",
   "nbconvert_exporter": "python",
   "pygments_lexer": "ipython3",
   "version": "3.8.3"
  }
 },
 "nbformat": 4,
 "nbformat_minor": 4
}
